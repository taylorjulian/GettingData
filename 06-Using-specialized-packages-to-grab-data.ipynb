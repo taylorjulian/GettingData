{
 "cells": [
  {
   "cell_type": "markdown",
   "metadata": {},
   "source": [
    "## 06 Using specialized packages to grab data\n",
    "Previously we saw how 3rd party packages vastly increase what Python can do quickly and fairly easily. Here we see that this applies to downloading data as well; someone has written a Python package to download Census data quite easily.\n",
    "\n",
    "First we need to install the packages, and then we'll use them to grab some data. One note, however, is that to use these packages you need to sign up for a [free] Census API key. You can do this here: https://api.census.gov/data/key_signup.html\n",
    "\n",
    "Documentation for these packages is here: \n",
    "https://pypi.python.org/pypi/census\n",
    "https://github.com/datamade/census\n",
    "\n",
    "We'll discuss APIs, such as ths Census API next..."
   ]
  },
  {
   "cell_type": "code",
   "execution_count": 1,
   "metadata": {},
   "outputs": [
    {
     "name": "stdout",
     "output_type": "stream",
     "text": [
      "Collecting census\n",
      "  Downloading https://files.pythonhosted.org/packages/52/af/ad681b4a1b903d96569a4295305ef3bb17d99959a15a4d7cd4f6f65e8f3a/census-0.8.7-py2.py3-none-any.whl\n",
      "Requirement already satisfied: requests>=1.1.0 in c:\\users\\tm254\\appdata\\local\\esri\\conda\\envs\\my_env\\lib\\site-packages (from census)\n",
      "Requirement already satisfied: future in c:\\users\\tm254\\appdata\\local\\esri\\conda\\envs\\my_env\\lib\\site-packages\\future-0.16.0-py3.6.egg (from census)\n",
      "Requirement already satisfied: chardet<3.1.0,>=3.0.2 in c:\\users\\tm254\\appdata\\local\\esri\\conda\\envs\\my_env\\lib\\site-packages (from requests>=1.1.0->census)\n",
      "Requirement already satisfied: idna<2.7,>=2.5 in c:\\users\\tm254\\appdata\\local\\esri\\conda\\envs\\my_env\\lib\\site-packages (from requests>=1.1.0->census)\n",
      "Requirement already satisfied: urllib3<1.23,>=1.21.1 in c:\\users\\tm254\\appdata\\local\\esri\\conda\\envs\\my_env\\lib\\site-packages (from requests>=1.1.0->census)\n",
      "Requirement already satisfied: certifi>=2017.4.17 in c:\\users\\tm254\\appdata\\local\\esri\\conda\\envs\\my_env\\lib\\site-packages (from requests>=1.1.0->census)\n",
      "Installing collected packages: census\n",
      "Successfully installed census-0.8.7\n"
     ]
    },
    {
     "name": "stderr",
     "output_type": "stream",
     "text": [
      "You are using pip version 9.0.3, however version 18.1 is available.\n",
      "You should consider upgrading via the 'python -m pip install --upgrade pip' command.\n"
     ]
    }
   ],
   "source": [
    "#Import the 'census' package; install if needed\n",
    "try:\n",
    "    from census import Census\n",
    "except:\n",
    "    import pip\n",
    "    pip.main(['install','census'])\n",
    "    from census import Census"
   ]
  },
  {
   "cell_type": "code",
   "execution_count": 2,
   "metadata": {},
   "outputs": [
    {
     "name": "stdout",
     "output_type": "stream",
     "text": [
      "Collecting ggplot\n",
      "  Downloading https://files.pythonhosted.org/packages/48/04/5c88cc51c6713583f2dc78a5296adb9741505348c323d5875bc976143db2/ggplot-0.11.5-py2.py3-none-any.whl (2.2MB)\n",
      "Requirement already satisfied: cycler in c:\\users\\tm254\\appdata\\local\\esri\\conda\\envs\\my_env\\lib\\site-packages (from ggplot)\n",
      "Requirement already satisfied: numpy in c:\\users\\tm254\\appdata\\local\\esri\\conda\\envs\\my_env\\lib\\site-packages (from ggplot)\n",
      "Collecting patsy>=0.4 (from ggplot)\n",
      "  Downloading https://files.pythonhosted.org/packages/ea/0c/5f61f1a3d4385d6bf83b83ea495068857ff8dfb89e74824c6e9eb63286d8/patsy-0.5.1-py2.py3-none-any.whl (231kB)\n",
      "Collecting brewer2mpl (from ggplot)\n",
      "  Downloading https://files.pythonhosted.org/packages/84/57/00c45a199719e617db0875181134fcb3aeef701deae346547ac722eaaf5e/brewer2mpl-1.4.1-py2.py3-none-any.whl\n",
      "Requirement already satisfied: matplotlib in c:\\users\\tm254\\appdata\\local\\esri\\conda\\envs\\my_env\\lib\\site-packages (from ggplot)\n",
      "Collecting statsmodels (from ggplot)\n",
      "  Downloading https://files.pythonhosted.org/packages/77/2b/8ba61399b31f984c263b177c2e2547a34f0d4d972a24a51fc77c376079b0/statsmodels-0.9.0-cp36-cp36m-win_amd64.whl (7.0MB)\n",
      "Requirement already satisfied: six in c:\\users\\tm254\\appdata\\local\\esri\\conda\\envs\\my_env\\lib\\site-packages (from ggplot)\n",
      "Requirement already satisfied: pandas in c:\\users\\tm254\\appdata\\local\\esri\\conda\\envs\\my_env\\lib\\site-packages (from ggplot)\n",
      "Requirement already satisfied: scipy in c:\\users\\tm254\\appdata\\local\\esri\\conda\\envs\\my_env\\lib\\site-packages (from ggplot)\n",
      "Requirement already satisfied: pyparsing!=2.0.4,!=2.1.2,!=2.1.6,>=2.0.1 in c:\\users\\tm254\\appdata\\local\\esri\\conda\\envs\\my_env\\lib\\site-packages (from matplotlib->ggplot)\n",
      "Requirement already satisfied: python-dateutil>=2.1 in c:\\users\\tm254\\appdata\\local\\esri\\conda\\envs\\my_env\\lib\\site-packages (from matplotlib->ggplot)\n",
      "Requirement already satisfied: pytz in c:\\users\\tm254\\appdata\\local\\esri\\conda\\envs\\my_env\\lib\\site-packages\\pytz-2018.3-py3.6.egg (from matplotlib->ggplot)\n",
      "Requirement already satisfied: kiwisolver>=1.0.1 in c:\\users\\tm254\\appdata\\local\\esri\\conda\\envs\\my_env\\lib\\site-packages (from matplotlib->ggplot)\n",
      "Requirement already satisfied: setuptools in c:\\users\\tm254\\appdata\\local\\esri\\conda\\envs\\my_env\\lib\\site-packages (from kiwisolver>=1.0.1->matplotlib->ggplot)\n",
      "Installing collected packages: patsy, brewer2mpl, statsmodels, ggplot\n",
      "Successfully installed brewer2mpl-1.4.1 ggplot-0.11.5 patsy-0.5.1 statsmodels-0.9.0\n"
     ]
    },
    {
     "name": "stderr",
     "output_type": "stream",
     "text": [
      "You are using pip version 9.0.3, however version 18.1 is available.\n",
      "You should consider upgrading via the 'python -m pip install --upgrade pip' command.\n",
      "C:\\Users\\tm254\\AppData\\Local\\ESRI\\conda\\envs\\my_env\\lib\\site-packages\\ggplot\\utils.py:81: FutureWarning: pandas.tslib is deprecated and will be removed in a future version.\n",
      "You can access Timestamp as pandas.Timestamp\n",
      "  pd.tslib.Timestamp,\n",
      "C:\\Users\\tm254\\AppData\\Local\\ESRI\\conda\\envs\\my_env\\lib\\site-packages\\ggplot\\stats\\smoothers.py:4: FutureWarning: The pandas.lib module is deprecated and will be removed in a future version. These are private functions and can be accessed from pandas._libs.lib instead\n",
      "  from pandas.lib import Timestamp\n"
     ]
    }
   ],
   "source": [
    "#And we'll preview 'ggplot', import/install it...\n",
    "try:\n",
    "    import ggplot as gg\n",
    "except:\n",
    "    import pip\n",
    "    pip.main(['install','ggplot'])\n",
    "    import ggplot as gg"
   ]
  },
  {
   "cell_type": "code",
   "execution_count": 3,
   "metadata": {},
   "outputs": [],
   "source": [
    "#And finally, import pandas\n",
    "import pandas as pd"
   ]
  },
  {
   "cell_type": "code",
   "execution_count": 4,
   "metadata": {},
   "outputs": [],
   "source": [
    "# Add your census key here:\n",
    "key = None"
   ]
  },
  {
   "cell_type": "code",
   "execution_count": 5,
   "metadata": {},
   "outputs": [],
   "source": [
    "# Create the connection to the Census API\n",
    "c = Census(key, year=2015)"
   ]
  },
  {
   "cell_type": "code",
   "execution_count": 6,
   "metadata": {},
   "outputs": [
    {
     "data": {
      "text/plain": [
       "B19001_001E    float64\n",
       "NAME            object\n",
       "county          object\n",
       "state           object\n",
       "tract           object\n",
       "dtype: object"
      ]
     },
     "execution_count": 6,
     "metadata": {},
     "output_type": "execute_result"
    }
   ],
   "source": [
    "variables = ('NAME', 'B19001_001E')\n",
    "params = {'for':'tract:*', 'in':'state:24'}\n",
    "response = c.acs5.get(variables, params)\n",
    "response = pd.DataFrame(response)\n",
    "response.dtypes"
   ]
  },
  {
   "cell_type": "code",
   "execution_count": 7,
   "metadata": {},
   "outputs": [
    {
     "data": {
      "image/png": "[encoded data removed]",
      "text/plain": [
       "<Figure size 792x576 with 1 Axes>"
      ]
     },
     "metadata": {},
     "output_type": "display_data"
    },
    {
     "data": {
      "text/plain": [
       "<ggplot: (-9223371889389184666)>"
      ]
     },
     "execution_count": 7,
     "metadata": {},
     "output_type": "execute_result"
    }
   ],
   "source": [
    "import ggplot as gg\n",
    "\n",
    "response[variables[1]] = pd.to_numeric(response[variables[1]])\n",
    "gg.ggplot(response, gg.aes(x = 'county', y = variables[1])) + gg.geom_boxplot()"
   ]
  },
  {
   "cell_type": "code",
   "execution_count": null,
   "metadata": {},
   "outputs": [],
   "source": []
  }
 ],
 "metadata": {
  "kernelspec": {
   "display_name": "Python 3",
   "language": "python",
   "name": "python3"
  },
  "language_info": {
   "codemirror_mode": {
    "name": "ipython",
    "version": 3
   },
   "file_extension": ".py",
   "mimetype": "text/x-python",
   "name": "python",
   "nbconvert_exporter": "python",
   "pygments_lexer": "ipython3",
   "version": "3.6.5"
  }
 },
 "nbformat": 4,
 "nbformat_minor": 2
}
